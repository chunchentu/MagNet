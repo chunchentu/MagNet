{
 "cells": [
  {
   "cell_type": "code",
   "execution_count": 59,
   "metadata": {},
   "outputs": [],
   "source": [
    "from setup_face import FACE\n",
    "from utils import prepare_data\n",
    "from worker import AEDetector, SimpleReformer, IdReformer, AttackData, Classifier, Operator, Evaluator\n",
    "import utils\n",
    "import numpy as np\n",
    "import matplotlib.pyplot as plt\n",
    "import pickle\n",
    "import os\n",
    "import scipy.io\n",
    "import copy\n",
    "import pandas as pd"
   ]
  },
  {
   "cell_type": "code",
   "execution_count": 2,
   "metadata": {},
   "outputs": [],
   "source": [
    "adv_robust_root_path = os.path.join(\"..\", \"adv_robust\")\n",
    "import sys\n",
    "# include parent dir in the python search path\n",
    "sys.path.append(adv_robust_root_path)\n",
    "import fig_utils as u\n",
    "import gllim"
   ]
  },
  {
   "cell_type": "code",
   "execution_count": 3,
   "metadata": {},
   "outputs": [],
   "source": [
    "%matplotlib inline\n",
    "%load_ext autoreload\n",
    "%autoreload 2"
   ]
  },
  {
   "cell_type": "code",
   "execution_count": 40,
   "metadata": {},
   "outputs": [],
   "source": [
    "def transform_data(d, img_dim=32):\n",
    "    n = d.shape[1]\n",
    "    return np.transpose(copy.deepcopy(d)).reshape([n, img_dim, img_dim, 1])\n",
    "def transform_back(x, vec_size=1024):\n",
    "    n = x.shape[0]\n",
    "    return np.transpose(copy.deepcopy(x).reshape(n, vec_size))"
   ]
  },
  {
   "cell_type": "code",
   "execution_count": 60,
   "metadata": {},
   "outputs": [
    {
     "data": {
      "text/html": [
       "<div>\n",
       "<style scoped>\n",
       "    .dataframe tbody tr th:only-of-type {\n",
       "        vertical-align: middle;\n",
       "    }\n",
       "\n",
       "    .dataframe tbody tr th {\n",
       "        vertical-align: top;\n",
       "    }\n",
       "\n",
       "    .dataframe thead th {\n",
       "        text-align: right;\n",
       "    }\n",
       "</style>\n",
       "<table border=\"1\" class=\"dataframe\">\n",
       "  <thead>\n",
       "    <tr style=\"text-align: right;\">\n",
       "      <th></th>\n",
       "      <th>img_idx</th>\n",
       "      <th>data_idx</th>\n",
       "      <th>data_type</th>\n",
       "      <th>loss</th>\n",
       "      <th>pred_loss</th>\n",
       "      <th>eps</th>\n",
       "      <th>eps_norm</th>\n",
       "      <th>orig_pred_loss</th>\n",
       "      <th>adv_pred_loss</th>\n",
       "      <th>noise_pred_loss</th>\n",
       "      <th>...</th>\n",
       "      <th>orig_pred_1</th>\n",
       "      <th>orig_pred_2</th>\n",
       "      <th>orig_pred_3</th>\n",
       "      <th>adv_pred_1</th>\n",
       "      <th>adv_pred_loss_1</th>\n",
       "      <th>adv_pred_loss_2</th>\n",
       "      <th>adv_pred_loss_3</th>\n",
       "      <th>diff_1</th>\n",
       "      <th>diff_2</th>\n",
       "      <th>diff_3</th>\n",
       "    </tr>\n",
       "  </thead>\n",
       "  <tbody>\n",
       "    <tr>\n",
       "      <th>0</th>\n",
       "      <td>0</td>\n",
       "      <td>0</td>\n",
       "      <td>train</td>\n",
       "      <td>-0.064435</td>\n",
       "      <td>0.066060</td>\n",
       "      <td>1.040247</td>\n",
       "      <td>0.000996</td>\n",
       "      <td>0.001474</td>\n",
       "      <td>0.066060</td>\n",
       "      <td>0.001344</td>\n",
       "      <td>...</td>\n",
       "      <td>0.046382</td>\n",
       "      <td>-0.672185</td>\n",
       "      <td>-0.127650</td>\n",
       "      <td>-0.332950</td>\n",
       "      <td>0.000573</td>\n",
       "      <td>0.011838</td>\n",
       "      <td>0.053649</td>\n",
       "      <td>-0.014988</td>\n",
       "      <td>0.082319</td>\n",
       "      <td>-0.205300</td>\n",
       "    </tr>\n",
       "    <tr>\n",
       "      <th>1</th>\n",
       "      <td>1</td>\n",
       "      <td>1</td>\n",
       "      <td>train</td>\n",
       "      <td>-0.196822</td>\n",
       "      <td>0.197638</td>\n",
       "      <td>1.044288</td>\n",
       "      <td>0.000998</td>\n",
       "      <td>0.002536</td>\n",
       "      <td>0.197638</td>\n",
       "      <td>0.002167</td>\n",
       "      <td>...</td>\n",
       "      <td>0.409840</td>\n",
       "      <td>0.732874</td>\n",
       "      <td>-0.353605</td>\n",
       "      <td>-0.614667</td>\n",
       "      <td>0.102489</td>\n",
       "      <td>0.000069</td>\n",
       "      <td>0.095080</td>\n",
       "      <td>-0.303899</td>\n",
       "      <td>-0.002367</td>\n",
       "      <td>-0.261061</td>\n",
       "    </tr>\n",
       "    <tr>\n",
       "      <th>2</th>\n",
       "      <td>2</td>\n",
       "      <td>2</td>\n",
       "      <td>train</td>\n",
       "      <td>-0.043766</td>\n",
       "      <td>0.045398</td>\n",
       "      <td>1.044380</td>\n",
       "      <td>0.000998</td>\n",
       "      <td>0.000111</td>\n",
       "      <td>0.045398</td>\n",
       "      <td>0.000633</td>\n",
       "      <td>...</td>\n",
       "      <td>0.075148</td>\n",
       "      <td>-0.594922</td>\n",
       "      <td>0.180943</td>\n",
       "      <td>0.044872</td>\n",
       "      <td>0.003106</td>\n",
       "      <td>0.023219</td>\n",
       "      <td>0.019073</td>\n",
       "      <td>-0.051829</td>\n",
       "      <td>0.142791</td>\n",
       "      <td>-0.136071</td>\n",
       "    </tr>\n",
       "    <tr>\n",
       "      <th>4</th>\n",
       "      <td>4</td>\n",
       "      <td>3</td>\n",
       "      <td>train</td>\n",
       "      <td>-0.093389</td>\n",
       "      <td>0.094207</td>\n",
       "      <td>1.046704</td>\n",
       "      <td>0.000999</td>\n",
       "      <td>0.003173</td>\n",
       "      <td>0.094207</td>\n",
       "      <td>0.004603</td>\n",
       "      <td>...</td>\n",
       "      <td>-1.118577</td>\n",
       "      <td>-0.923481</td>\n",
       "      <td>1.719315</td>\n",
       "      <td>1.802744</td>\n",
       "      <td>0.078432</td>\n",
       "      <td>0.001062</td>\n",
       "      <td>0.014714</td>\n",
       "      <td>-0.239068</td>\n",
       "      <td>0.024939</td>\n",
       "      <td>0.083429</td>\n",
       "    </tr>\n",
       "    <tr>\n",
       "      <th>5</th>\n",
       "      <td>5</td>\n",
       "      <td>4</td>\n",
       "      <td>train</td>\n",
       "      <td>-0.118056</td>\n",
       "      <td>0.118464</td>\n",
       "      <td>1.045990</td>\n",
       "      <td>0.000999</td>\n",
       "      <td>0.000378</td>\n",
       "      <td>0.118464</td>\n",
       "      <td>0.000578</td>\n",
       "      <td>...</td>\n",
       "      <td>-0.188037</td>\n",
       "      <td>1.502874</td>\n",
       "      <td>0.726402</td>\n",
       "      <td>0.836998</td>\n",
       "      <td>0.099570</td>\n",
       "      <td>0.004198</td>\n",
       "      <td>0.014696</td>\n",
       "      <td>0.301696</td>\n",
       "      <td>-0.056262</td>\n",
       "      <td>0.110596</td>\n",
       "    </tr>\n",
       "  </tbody>\n",
       "</table>\n",
       "<p>5 rows × 31 columns</p>\n",
       "</div>"
      ],
      "text/plain": [
       "   img_idx  data_idx data_type      loss  pred_loss       eps  eps_norm  \\\n",
       "0        0         0     train -0.064435   0.066060  1.040247  0.000996   \n",
       "1        1         1     train -0.196822   0.197638  1.044288  0.000998   \n",
       "2        2         2     train -0.043766   0.045398  1.044380  0.000998   \n",
       "4        4         3     train -0.093389   0.094207  1.046704  0.000999   \n",
       "5        5         4     train -0.118056   0.118464  1.045990  0.000999   \n",
       "\n",
       "   orig_pred_loss  adv_pred_loss  noise_pred_loss  ...  orig_pred_1  \\\n",
       "0        0.001474       0.066060         0.001344  ...     0.046382   \n",
       "1        0.002536       0.197638         0.002167  ...     0.409840   \n",
       "2        0.000111       0.045398         0.000633  ...     0.075148   \n",
       "4        0.003173       0.094207         0.004603  ...    -1.118577   \n",
       "5        0.000378       0.118464         0.000578  ...    -0.188037   \n",
       "\n",
       "   orig_pred_2  orig_pred_3  adv_pred_1  adv_pred_loss_1  adv_pred_loss_2  \\\n",
       "0    -0.672185    -0.127650   -0.332950         0.000573         0.011838   \n",
       "1     0.732874    -0.353605   -0.614667         0.102489         0.000069   \n",
       "2    -0.594922     0.180943    0.044872         0.003106         0.023219   \n",
       "4    -0.923481     1.719315    1.802744         0.078432         0.001062   \n",
       "5     1.502874     0.726402    0.836998         0.099570         0.004198   \n",
       "\n",
       "   adv_pred_loss_3    diff_1    diff_2    diff_3  \n",
       "0         0.053649 -0.014988  0.082319 -0.205300  \n",
       "1         0.095080 -0.303899 -0.002367 -0.261061  \n",
       "2         0.019073 -0.051829  0.142791 -0.136071  \n",
       "4         0.014714 -0.239068  0.024939  0.083429  \n",
       "5         0.014696  0.301696 -0.056262  0.110596  \n",
       "\n",
       "[5 rows x 31 columns]"
      ]
     },
     "execution_count": 60,
     "metadata": {},
     "output_type": "execute_result"
    }
   ],
   "source": [
    "data_root_path = os.path.join(adv_robust_root_path, \"tf_autozoom_2d_randVec20\")\n",
    "cluster_data_folder = os.path.join(adv_robust_root_path, \"tf_autozoom_2d_randVec20_cluster\")\n",
    "# read in adversarial results for training data\n",
    "data_path = os.path.join(data_root_path, \"all_results.pkl\")\n",
    "with open(data_path, \"rb\") as f:\n",
    "    d = pickle.load(f)\n",
    "df_train = d[\"df\"]\n",
    "true_train_x = d[\"true_x\"]\n",
    "true_train_y = d[\"true_y\"]\n",
    "adv_train_x = d[\"adv_x\"]\n",
    "diff_train_x = adv_train_x - true_train_x\n",
    "orig_pred_train = d[\"orig_pred\"]\n",
    "adv_pred_train = d[\"adv_pred\"]\n",
    "\n",
    "# read in adversarial results for testing data\n",
    "data_path = os.path.join(data_root_path, \"all_test_results.pkl\")\n",
    "with open(data_path, \"rb\") as f:\n",
    "    d = pickle.load(f)\n",
    "df_test = d[\"df\"]\n",
    "true_test_x = d[\"true_x\"]\n",
    "true_test_y = d[\"true_y\"]\n",
    "adv_test_x = d[\"adv_x\"]\n",
    "diff_test_x = adv_test_x - true_test_x\n",
    "orig_pred_test = d[\"orig_pred\"]\n",
    "adv_pred_test = d[\"adv_pred\"]\n",
    "\n",
    "df = pd.concat([df_train, df_test])\n",
    "df.head()"
   ]
  },
  {
   "cell_type": "code",
   "execution_count": 125,
   "metadata": {},
   "outputs": [],
   "source": [
    "detector_I = AEDetector(\"./defensive_models/FACEADV_I\", p=2)\n",
    "detector_II = AEDetector(\"./defensive_models/FACE_II\", p=1)\n",
    "reformer = SimpleReformer(\"./defensive_models/FACE_I\")"
   ]
  },
  {
   "cell_type": "code",
   "execution_count": 79,
   "metadata": {},
   "outputs": [],
   "source": [
    "data = FACE()"
   ]
  },
  {
   "cell_type": "code",
   "execution_count": 98,
   "metadata": {},
   "outputs": [
    {
     "name": "stdout",
     "output_type": "stream",
     "text": [
      "[GLLiM] Numpy version\n",
      "[GLLiM] load model: ..\\adv_robust\\test_code\\face_model.mat\n",
      "[GLLiM] parameters: K: 20, L: 12, cstr.Sigma: i*\n",
      "[GLLiM] set Lt: 3\n"
     ]
    }
   ],
   "source": [
    "model = gllim.GLLiM_np(os.path.join(adv_robust_root_path, \"test_code\", \"face_model.mat\"))\n",
    "Lt = 3\n",
    "model.set_Lt(Lt)\n",
    "model.get_ths()"
   ]
  },
  {
   "cell_type": "code",
   "execution_count": 119,
   "metadata": {},
   "outputs": [],
   "source": [
    "orig = np.concatenate((data.test_data, data.test_adv), axis=0)\n",
    "orig_y = np.concatenate((data.test_labels, data.test_labels), axis=1)\n",
    "heal = reformer.heal(orig)"
   ]
  },
  {
   "cell_type": "code",
   "execution_count": 100,
   "metadata": {},
   "outputs": [
    {
     "data": {
      "image/png": "[encoded data removed]",
      "text/plain": [
       "<Figure size 432x288 with 2 Axes>"
      ]
     },
     "metadata": {
      "needs_background": "light"
     },
     "output_type": "display_data"
    },
    {
     "data": {
      "image/png": "[encoded data removed]",
      "text/plain": [
       "<Figure size 432x288 with 2 Axes>"
      ]
     },
     "metadata": {
      "needs_background": "light"
     },
     "output_type": "display_data"
    },
    {
     "data": {
      "image/png": "[encoded data removed]",
      "text/plain": [
       "<Figure size 432x288 with 2 Axes>"
      ]
     },
     "metadata": {
      "needs_background": "light"
     },
     "output_type": "display_data"
    },
    {
     "data": {
      "image/png": "[encoded data removed]",
      "text/plain": [
       "<Figure size 432x288 with 2 Axes>"
      ]
     },
     "metadata": {
      "needs_background": "light"
     },
     "output_type": "display_data"
    },
    {
     "data": {
      "image/png": "[encoded data removed]",
      "text/plain": [
       "<Figure size 432x288 with 2 Axes>"
      ]
     },
     "metadata": {
      "needs_background": "light"
     },
     "output_type": "display_data"
    },
    {
     "data": {
      "image/png": "[encoded data removed]",
      "text/plain": [
       "<Figure size 432x288 with 2 Axes>"
      ]
     },
     "metadata": {
      "needs_background": "light"
     },
     "output_type": "display_data"
    }
   ],
   "source": [
    "target_id = 6\n",
    "u.plot_img(orig[target_id, :, :, :].squeeze())\n",
    "u.plot_img(heal[target_id, :, :, :].squeeze())\n",
    "u.plot_img(orig[target_id + 100, :, :, :].squeeze())\n",
    "u.plot_img(heal[target_id + 100, :, :, :].squeeze())\n",
    "u.plot_img(orig[target_id, :, :, :].squeeze() - orig[target_id+100, :, :, :].squeeze())\n",
    "u.plot_img(heal[target_id, :, :, :].squeeze() - heal[target_id+100, :, :, :].squeeze())"
   ]
  },
  {
   "cell_type": "code",
   "execution_count": 83,
   "metadata": {},
   "outputs": [],
   "source": [
    "orig_vec = transform_back(orig)\n",
    "heal_vec = transform_back(heal)\n",
    "\n",
    "orig_pred, _, _ = model.predict(orig_vec)\n",
    "heal_pred, _, _ = model.predict(heal_vec)"
   ]
  },
  {
   "cell_type": "code",
   "execution_count": 120,
   "metadata": {},
   "outputs": [],
   "source": [
    "# sanity check for the prediction errors\n",
    "orig_sse = np.sum((orig_pred - orig_y)**2, axis=0)"
   ]
  },
  {
   "cell_type": "code",
   "execution_count": 122,
   "metadata": {},
   "outputs": [
    {
     "data": {
      "text/plain": [
       "(array([54., 24.,  5.,  9.,  4.,  2.,  0.,  1.,  0.,  1.]),\n",
       " array([0.03769805, 0.18614973, 0.33460141, 0.48305308, 0.63150476,\n",
       "        0.77995644, 0.92840811, 1.07685979, 1.22531147, 1.37376314,\n",
       "        1.52221482]),\n",
       " <a list of 10 Patch objects>)"
      ]
     },
     "execution_count": 122,
     "metadata": {},
     "output_type": "execute_result"
    },
    {
     "data": {
      "image/png": "[encoded data removed]",
      "text/plain": [
       "<Figure size 432x288 with 1 Axes>"
      ]
     },
     "metadata": {
      "needs_background": "light"
     },
     "output_type": "display_data"
    }
   ],
   "source": [
    "plt.hist(orig_sse[:100], alpha=0.5, label='x')\n",
    "plt.hist(orig_sse[100:], alpha=0.5, label='y')"
   ]
  },
  {
   "cell_type": "code",
   "execution_count": 101,
   "metadata": {},
   "outputs": [
    {
     "name": "stdout",
     "output_type": "stream",
     "text": [
      "[-0.04516564 -0.00485675 -0.08083274]\n",
      "[-0.05009436 -0.00168532 -0.09151196]\n"
     ]
    }
   ],
   "source": [
    "# different between orig and heal\n",
    "diff = orig_pred - heal_pred\n",
    "print(diff[:, target_id])\n",
    "print(diff[:, target_id+100])"
   ]
  },
  {
   "cell_type": "code",
   "execution_count": 102,
   "metadata": {},
   "outputs": [],
   "source": [
    "sse = np.sum(diff**2, axis=0)"
   ]
  },
  {
   "cell_type": "code",
   "execution_count": 103,
   "metadata": {},
   "outputs": [
    {
     "data": {
      "text/plain": [
       "array([0.20553836, 0.33725717, 0.41042848])"
      ]
     },
     "execution_count": 103,
     "metadata": {},
     "output_type": "execute_result"
    }
   ],
   "source": [
    "orig_pred[:, target_id+100]"
   ]
  },
  {
   "cell_type": "code",
   "execution_count": 104,
   "metadata": {},
   "outputs": [
    {
     "data": {
      "text/plain": [
       "(array([87.,  3.,  4.,  1.,  3.,  0.,  1.,  0.,  0.,  1.]),\n",
       " array([4.15526253e-05, 1.33327312e-02, 2.66239099e-02, 3.99150885e-02,\n",
       "        5.32062671e-02, 6.64974457e-02, 7.97886244e-02, 9.30798030e-02,\n",
       "        1.06370982e-01, 1.19662160e-01, 1.32953339e-01]),\n",
       " <a list of 10 Patch objects>)"
      ]
     },
     "execution_count": 104,
     "metadata": {},
     "output_type": "execute_result"
    },
    {
     "data": {
      "image/png": "[encoded data removed]",
      "text/plain": [
       "<Figure size 432x288 with 1 Axes>"
      ]
     },
     "metadata": {
      "needs_background": "light"
     },
     "output_type": "display_data"
    }
   ],
   "source": [
    "plt.hist(sse[:100], alpha=0.5, label='x')\n",
    "plt.hist(sse[100:], alpha=0.5, label='y')"
   ]
  },
  {
   "cell_type": "code",
   "execution_count": 105,
   "metadata": {},
   "outputs": [],
   "source": [
    "temp = sse.reshape([2, 100])"
   ]
  },
  {
   "cell_type": "code",
   "execution_count": 56,
   "metadata": {},
   "outputs": [
    {
     "data": {
      "text/plain": [
       "array([[1.28504534e-03, 7.73914319e-03, 7.88618864e-03, 4.38323076e-02,\n",
       "        1.80636965e-02, 1.47794733e-02, 3.13558766e-03, 2.11093263e-03,\n",
       "        1.05892222e-02, 4.54088177e-03, 1.04762115e-02, 1.73853296e-02,\n",
       "        3.98125250e-03, 8.37026985e-03, 9.91152288e-02, 1.77958691e-02,\n",
       "        4.58646541e-03, 1.50528259e-03, 3.24369793e-02, 1.11234553e-01,\n",
       "        8.90782938e-04, 9.54386306e-03, 1.97233506e-02, 3.86440580e-03,\n",
       "        1.47206414e-02, 7.93349547e-02, 6.47637068e-03, 1.58063799e-02,\n",
       "        4.64545066e-02, 1.26300181e-02, 5.92377049e-03, 1.14249920e-02,\n",
       "        2.85497272e-02, 9.67882853e-03, 1.10842925e-03, 1.56319089e-01,\n",
       "        1.69488245e-02, 3.29083974e-02, 1.25523171e-02, 3.40390924e-02,\n",
       "        2.68733350e-02, 9.08886842e-03, 5.51846485e-03, 3.24179577e-03,\n",
       "        2.36606707e-02, 4.15957664e-03, 1.17978110e-03, 1.52745404e-02,\n",
       "        1.77955997e-02, 1.83528592e-03, 1.87255384e-03, 9.13452935e-03,\n",
       "        3.22912485e-03, 9.73361373e-04, 1.15859937e-01, 9.23552140e-03,\n",
       "        2.42047941e-03, 3.95712208e-02, 2.99485887e-02, 5.92027379e-03,\n",
       "        1.10723695e-02, 1.25633234e-02, 2.23504806e-02, 5.02767601e-03,\n",
       "        1.90226977e-03, 7.76536534e-03, 7.23954568e-03, 1.13778616e-02,\n",
       "        1.75220099e-03, 8.26585258e-03, 2.32843519e-02, 2.18975778e-02,\n",
       "        1.00573951e-02, 1.14174199e-02, 2.04055396e-02, 1.42039106e-03,\n",
       "        1.53623140e-02, 3.45431743e-02, 8.59705615e-02, 3.25261557e-02,\n",
       "        2.12296283e-02, 1.96440337e-02, 1.41387124e-02, 7.42353963e-03,\n",
       "        1.34044587e-02, 2.65870714e-02, 1.35997469e-02, 9.01795768e-04,\n",
       "        1.83091981e-02, 6.45267371e-03, 6.64481481e-02, 1.78534297e-02,\n",
       "        3.33607157e-03, 3.32038154e-03, 7.50839279e-03, 5.15952317e-02,\n",
       "        2.59580343e-02, 1.90580400e-02, 7.17293865e-03, 1.82209381e-02],\n",
       "       [8.87618525e-05, 4.38206627e-03, 6.89718285e-03, 2.66150006e-02,\n",
       "        2.59048990e-02, 1.94729478e-02, 5.32787331e-03, 2.57680910e-03,\n",
       "        1.09336642e-02, 4.94931589e-03, 1.09571353e-02, 1.23281698e-02,\n",
       "        3.85636924e-05, 8.15436094e-03, 5.96814513e-02, 2.19754080e-02,\n",
       "        3.51008419e-03, 1.29151365e-03, 2.87401443e-02, 1.37095440e-01,\n",
       "        5.22018029e-03, 3.06986230e-02, 1.94321603e-02, 7.19913847e-02,\n",
       "        1.34693760e-02, 4.59223995e-02, 7.35216399e-03, 1.43979583e-02,\n",
       "        3.21544593e-02, 2.61730057e-02, 1.06957373e-02, 1.11446492e-02,\n",
       "        3.60517932e-02, 1.48317106e-02, 2.81556910e-03, 7.79406341e-02,\n",
       "        1.74460894e-02, 3.25949436e-02, 3.69391270e-02, 5.30724308e-02,\n",
       "        1.86891377e-02, 7.64775937e-03, 4.86484586e-03, 1.91356446e-03,\n",
       "        1.76351747e-02, 8.12804675e-03, 8.96177686e-03, 1.09504507e-02,\n",
       "        1.53851634e-02, 3.42904953e-03, 2.24508562e-03, 1.90644227e-02,\n",
       "        1.94509911e-03, 4.98385555e-03, 1.19633229e-03, 1.10819804e-02,\n",
       "        9.07443010e-04, 3.34599824e-02, 3.67076624e-02, 8.68788606e-03,\n",
       "        2.60584277e-04, 1.38921156e-02, 4.80308405e-03, 1.62499261e-03,\n",
       "        1.24051158e-03, 3.68990180e-03, 5.56946826e-03, 9.13179032e-03,\n",
       "        9.07460418e-03, 2.61358410e-03, 6.02344943e-03, 2.27564279e-02,\n",
       "        9.77533962e-03, 9.22046659e-03, 1.92454225e-02, 8.64986713e-03,\n",
       "        1.04354577e-02, 1.62790902e-02, 6.72989823e-02, 4.95643487e-02,\n",
       "        2.72399381e-02, 1.06412845e-02, 1.63312457e-02, 1.38691560e-02,\n",
       "        8.68373007e-03, 3.08678079e-02, 7.24032998e-03, 8.75262089e-04,\n",
       "        2.29464632e-02, 1.31257534e-02, 3.76728218e-02, 1.34621815e-02,\n",
       "        5.92354287e-03, 3.83520896e-03, 1.13399737e-02, 4.55086171e-02,\n",
       "        5.17999174e-02, 2.58310755e-02, 3.90337743e-03, 2.00451499e-02]])"
      ]
     },
     "execution_count": 56,
     "metadata": {},
     "output_type": "execute_result"
    }
   ],
   "source": [
    "temp"
   ]
  },
  {
   "cell_type": "markdown",
   "metadata": {},
   "source": [
    "# Use reconstruct errors"
   ]
  },
  {
   "cell_type": "code",
   "execution_count": 106,
   "metadata": {},
   "outputs": [
    {
     "data": {
      "text/plain": [
       "(array([ 5.,  8., 20., 22., 17., 12.,  9.,  3.,  2.,  2.]),\n",
       " array([1.14717629, 1.50573292, 1.86428956, 2.22284619, 2.58140283,\n",
       "        2.93995946, 3.2985161 , 3.65707273, 4.01562936, 4.374186  ,\n",
       "        4.73274263]),\n",
       " <a list of 10 Patch objects>)"
      ]
     },
     "execution_count": 106,
     "metadata": {},
     "output_type": "execute_result"
    },
    {
     "data": {
      "image/png": "[encoded data removed]",
      "text/plain": [
       "<Figure size 432x288 with 1 Axes>"
      ]
     },
     "metadata": {
      "needs_background": "light"
     },
     "output_type": "display_data"
    }
   ],
   "source": [
    "rec_err = np.sum((heal_vec - orig_vec)**2, axis=0)\n",
    "\n",
    "plt.hist(rec_err[:100], alpha=0.5, label='x')\n",
    "plt.hist(rec_err[100:], alpha=0.5, label='y')"
   ]
  },
  {
   "cell_type": "code",
   "execution_count": 96,
   "metadata": {},
   "outputs": [
    {
     "name": "stdout",
     "output_type": "stream",
     "text": [
      "2.350412044852183\n",
      "2.3000071600833514\n"
     ]
    }
   ],
   "source": [
    "print(rec_err[2])\n",
    "print(rec_err[2 + 100])"
   ]
  },
  {
   "cell_type": "code",
   "execution_count": 126,
   "metadata": {},
   "outputs": [],
   "source": [
    "d1_mark = detector_I.mark(orig)\n",
    "d2_mark = detector_II.mark(orig)"
   ]
  },
  {
   "cell_type": "code",
   "execution_count": 127,
   "metadata": {},
   "outputs": [
    {
     "name": "stdout",
     "output_type": "stream",
     "text": [
      "0.0018097345380435575\n",
      "0.0017264712269128507\n"
     ]
    }
   ],
   "source": [
    "print(d1_mark[4])\n",
    "print(d1_mark[4+100])"
   ]
  },
  {
   "cell_type": "code",
   "execution_count": 128,
   "metadata": {},
   "outputs": [
    {
     "data": {
      "text/plain": [
       "(array([ 4., 18., 23., 17., 18., 11.,  4.,  1.,  2.,  2.]),\n",
       " array([0.00086092, 0.00107816, 0.00129539, 0.00151263, 0.00172986,\n",
       "        0.0019471 , 0.00216434, 0.00238157, 0.00259881, 0.00281604,\n",
       "        0.00303328]),\n",
       " <a list of 10 Patch objects>)"
      ]
     },
     "execution_count": 128,
     "metadata": {},
     "output_type": "execute_result"
    },
    {
     "data": {
      "image/png": "[encoded data removed]",
      "text/plain": [
       "<Figure size 432x288 with 1 Axes>"
      ]
     },
     "metadata": {
      "needs_background": "light"
     },
     "output_type": "display_data"
    }
   ],
   "source": [
    "plt.hist(d1_mark[:100], alpha=0.5, label='x')\n",
    "plt.hist(d1_mark[100:], alpha=0.5, label='y')"
   ]
  },
  {
   "cell_type": "code",
   "execution_count": 124,
   "metadata": {},
   "outputs": [
    {
     "data": {
      "text/plain": [
       "(array([19., 15., 15., 19.,  9.,  9.,  3.,  6.,  3.,  2.]),\n",
       " array([0.15114635, 0.17050027, 0.18985418, 0.2092081 , 0.22856201,\n",
       "        0.24791592, 0.26726984, 0.28662375, 0.30597767, 0.32533158,\n",
       "        0.3446855 ]),\n",
       " <a list of 10 Patch objects>)"
      ]
     },
     "execution_count": 124,
     "metadata": {},
     "output_type": "execute_result"
    },
    {
     "data": {
      "image/png": "[encoded data removed]",
      "text/plain": [
       "<Figure size 432x288 with 1 Axes>"
      ]
     },
     "metadata": {
      "needs_background": "light"
     },
     "output_type": "display_data"
    }
   ],
   "source": [
    "plt.hist(d2_mark[:100], alpha=0.5, label='x')\n",
    "plt.hist(d2_mark[100:], alpha=0.5, label='y')"
   ]
  },
  {
   "cell_type": "markdown",
   "metadata": {},
   "source": [
    "# Use GLLiM as autoencoder?"
   ]
  },
  {
   "cell_type": "code",
   "execution_count": 66,
   "metadata": {},
   "outputs": [],
   "source": [
    "orig_all = model.predict_all(orig_vec)"
   ]
  },
  {
   "cell_type": "code",
   "execution_count": 164,
   "metadata": {},
   "outputs": [
    {
     "name": "stdout",
     "output_type": "stream",
     "text": [
      "[GLLiM NP]: Inverse prediction using cluster: 3\n",
      "[-1.04970738  1.48574663 -1.56164592 -1.42756079 -0.5565278   0.42577144\n",
      "  1.24852322 -0.69446049  0.97829727  0.66727223 -0.10300023 -1.45089125]\n",
      "[-1.04965437  1.4857345  -1.56125481 -1.4268621  -0.55638565  0.42514217\n",
      "  1.24688631 -0.69275256  0.97635982  0.66579286 -0.10306863 -1.44681206]\n",
      "0.10645243785640886\n"
     ]
    },
    {
     "data": {
      "image/png": "[encoded data removed]",
      "text/plain": [
       "<Figure size 432x288 with 2 Axes>"
      ]
     },
     "metadata": {
      "needs_background": "light"
     },
     "output_type": "display_data"
    }
   ],
   "source": [
    "target_id = 0\n",
    "temp = df.loc[(df[\"data_type\"]==\"test\") & (df[\"data_idx\"]==target_id), [\"orig_p1\"]]\n",
    "target_cluster = int(temp[\"orig_p1\"])\n",
    "temp_pred = orig_all[:, target_id]\n",
    "temp_pred_img = model.inverse_predict_cluster(temp_pred, target_cluster)\n",
    "u.plot_img(temp_pred_img.squeeze())\n",
    "pred_2 = model.predict_all(temp_pred_img.reshape([1024, 1]))\n",
    "print(temp_pred.squeeze())\n",
    "print(pred_2.squeeze())\n",
    "print(np.linalg.norm(orig_vec[:, target_id] - temp_pred_img.reshape(-1))/np.linalg.norm(orig_vec[:, target_id]))"
   ]
  },
  {
   "cell_type": "code",
   "execution_count": 166,
   "metadata": {},
   "outputs": [
    {
     "name": "stdout",
     "output_type": "stream",
     "text": [
      "[GLLiM NP]: Inverse prediction using cluster: 3\n",
      "[-1.15284114  1.57426264 -1.30018382 -1.65962269 -0.79092953  0.20627188\n",
      "  1.26745521 -0.24523114  0.82465963  0.65730541 -0.38384067 -1.32215096]\n",
      "[-1.15259728  1.57406898 -1.30006985 -1.65851372 -0.79023793  0.20636196\n",
      "  1.26574601 -0.2449666   0.82332189  0.65558972 -0.38277552 -1.31869513]\n",
      "0.10823813608191177\n"
     ]
    },
    {
     "data": {
      "image/png": "[encoded data removed]",
      "text/plain": [
       "<Figure size 432x288 with 2 Axes>"
      ]
     },
     "metadata": {
      "needs_background": "light"
     },
     "output_type": "display_data"
    }
   ],
   "source": [
    "temp_pred = orig_all[:, target_id+100]\n",
    "temp_pred_img = model.inverse_predict_cluster(temp_pred, target_cluster)\n",
    "u.plot_img(temp_pred_img.squeeze())\n",
    "pred_2 = model.predict_all(temp_pred_img.reshape([1024, 1]))\n",
    "print(temp_pred.squeeze())\n",
    "print(pred_2.squeeze())\n",
    "print(np.linalg.norm(orig_vec[:, target_id+100] - temp_pred_img.reshape(-1))/np.linalg.norm(orig_vec[:, target_id+100]))"
   ]
  },
  {
   "cell_type": "markdown",
   "metadata": {},
   "source": [
    "# Get gllim reconstruct errors"
   ]
  },
  {
   "cell_type": "code",
   "execution_count": 152,
   "metadata": {},
   "outputs": [],
   "source": [
    "pred_cluster = model.get_predict_cluster(orig_vec)"
   ]
  },
  {
   "cell_type": "code",
   "execution_count": 168,
   "metadata": {},
   "outputs": [
    {
     "name": "stdout",
     "output_type": "stream",
     "text": [
      "[GLLiM NP]: Inverse prediction using cluster: 3\n",
      "[GLLiM NP]: Inverse prediction using cluster: 16\n",
      "[GLLiM NP]: Inverse prediction using cluster: 7\n",
      "[GLLiM NP]: Inverse prediction using cluster: 8\n",
      "[GLLiM NP]: Inverse prediction using cluster: 1\n",
      "[GLLiM NP]: Inverse prediction using cluster: 12\n",
      "[GLLiM NP]: Inverse prediction using cluster: 6\n",
      "[GLLiM NP]: Inverse prediction using cluster: 11\n",
      "[GLLiM NP]: Inverse prediction using cluster: 0\n",
      "[GLLiM NP]: Inverse prediction using cluster: 15\n",
      "[GLLiM NP]: Inverse prediction using cluster: 16\n",
      "[GLLiM NP]: Inverse prediction using cluster: 10\n",
      "[GLLiM NP]: Inverse prediction using cluster: 6\n",
      "[GLLiM NP]: Inverse prediction using cluster: 16\n",
      "[GLLiM NP]: Inverse prediction using cluster: 2\n",
      "[GLLiM NP]: Inverse prediction using cluster: 4\n",
      "[GLLiM NP]: Inverse prediction using cluster: 10\n",
      "[GLLiM NP]: Inverse prediction using cluster: 11\n",
      "[GLLiM NP]: Inverse prediction using cluster: 7\n",
      "[GLLiM NP]: Inverse prediction using cluster: 10\n",
      "[GLLiM NP]: Inverse prediction using cluster: 2\n",
      "[GLLiM NP]: Inverse prediction using cluster: 1\n",
      "[GLLiM NP]: Inverse prediction using cluster: 12\n",
      "[GLLiM NP]: Inverse prediction using cluster: 16\n",
      "[GLLiM NP]: Inverse prediction using cluster: 7\n",
      "[GLLiM NP]: Inverse prediction using cluster: 14\n",
      "[GLLiM NP]: Inverse prediction using cluster: 6\n",
      "[GLLiM NP]: Inverse prediction using cluster: 7\n",
      "[GLLiM NP]: Inverse prediction using cluster: 14\n",
      "[GLLiM NP]: Inverse prediction using cluster: 6\n",
      "[GLLiM NP]: Inverse prediction using cluster: 11\n",
      "[GLLiM NP]: Inverse prediction using cluster: 7\n",
      "[GLLiM NP]: Inverse prediction using cluster: 12\n",
      "[GLLiM NP]: Inverse prediction using cluster: 3\n",
      "[GLLiM NP]: Inverse prediction using cluster: 19\n",
      "[GLLiM NP]: Inverse prediction using cluster: 5\n",
      "[GLLiM NP]: Inverse prediction using cluster: 1\n",
      "[GLLiM NP]: Inverse prediction using cluster: 16\n",
      "[GLLiM NP]: Inverse prediction using cluster: 13\n",
      "[GLLiM NP]: Inverse prediction using cluster: 12\n",
      "[GLLiM NP]: Inverse prediction using cluster: 12\n",
      "[GLLiM NP]: Inverse prediction using cluster: 0\n",
      "[GLLiM NP]: Inverse prediction using cluster: 11\n",
      "[GLLiM NP]: Inverse prediction using cluster: 17\n",
      "[GLLiM NP]: Inverse prediction using cluster: 17\n",
      "[GLLiM NP]: Inverse prediction using cluster: 3\n",
      "[GLLiM NP]: Inverse prediction using cluster: 5\n",
      "[GLLiM NP]: Inverse prediction using cluster: 4\n",
      "[GLLiM NP]: Inverse prediction using cluster: 14\n",
      "[GLLiM NP]: Inverse prediction using cluster: 6\n",
      "[GLLiM NP]: Inverse prediction using cluster: 11\n",
      "[GLLiM NP]: Inverse prediction using cluster: 16\n",
      "[GLLiM NP]: Inverse prediction using cluster: 6\n",
      "[GLLiM NP]: Inverse prediction using cluster: 6\n",
      "[GLLiM NP]: Inverse prediction using cluster: 4\n",
      "[GLLiM NP]: Inverse prediction using cluster: 0\n",
      "[GLLiM NP]: Inverse prediction using cluster: 2\n",
      "[GLLiM NP]: Inverse prediction using cluster: 16\n",
      "[GLLiM NP]: Inverse prediction using cluster: 16\n",
      "[GLLiM NP]: Inverse prediction using cluster: 8\n",
      "[GLLiM NP]: Inverse prediction using cluster: 18\n",
      "[GLLiM NP]: Inverse prediction using cluster: 3\n",
      "[GLLiM NP]: Inverse prediction using cluster: 1\n",
      "[GLLiM NP]: Inverse prediction using cluster: 5\n",
      "[GLLiM NP]: Inverse prediction using cluster: 13\n",
      "[GLLiM NP]: Inverse prediction using cluster: 1\n",
      "[GLLiM NP]: Inverse prediction using cluster: 12\n",
      "[GLLiM NP]: Inverse prediction using cluster: 7\n",
      "[GLLiM NP]: Inverse prediction using cluster: 16\n",
      "[GLLiM NP]: Inverse prediction using cluster: 9\n",
      "[GLLiM NP]: Inverse prediction using cluster: 4\n",
      "[GLLiM NP]: Inverse prediction using cluster: 14\n",
      "[GLLiM NP]: Inverse prediction using cluster: 9\n",
      "[GLLiM NP]: Inverse prediction using cluster: 6\n",
      "[GLLiM NP]: Inverse prediction using cluster: 7\n",
      "[GLLiM NP]: Inverse prediction using cluster: 5\n",
      "[GLLiM NP]: Inverse prediction using cluster: 14\n",
      "[GLLiM NP]: Inverse prediction using cluster: 2\n",
      "[GLLiM NP]: Inverse prediction using cluster: 14\n",
      "[GLLiM NP]: Inverse prediction using cluster: 12\n",
      "[GLLiM NP]: Inverse prediction using cluster: 3\n",
      "[GLLiM NP]: Inverse prediction using cluster: 1\n",
      "[GLLiM NP]: Inverse prediction using cluster: 6\n",
      "[GLLiM NP]: Inverse prediction using cluster: 10\n",
      "[GLLiM NP]: Inverse prediction using cluster: 3\n",
      "[GLLiM NP]: Inverse prediction using cluster: 12\n",
      "[GLLiM NP]: Inverse prediction using cluster: 3\n",
      "[GLLiM NP]: Inverse prediction using cluster: 2\n",
      "[GLLiM NP]: Inverse prediction using cluster: 3\n",
      "[GLLiM NP]: Inverse prediction using cluster: 3\n",
      "[GLLiM NP]: Inverse prediction using cluster: 14\n",
      "[GLLiM NP]: Inverse prediction using cluster: 3\n",
      "[GLLiM NP]: Inverse prediction using cluster: 8\n",
      "[GLLiM NP]: Inverse prediction using cluster: 6\n",
      "[GLLiM NP]: Inverse prediction using cluster: 2\n",
      "[GLLiM NP]: Inverse prediction using cluster: 14\n",
      "[GLLiM NP]: Inverse prediction using cluster: 1\n",
      "[GLLiM NP]: Inverse prediction using cluster: 3\n",
      "[GLLiM NP]: Inverse prediction using cluster: 6\n",
      "[GLLiM NP]: Inverse prediction using cluster: 14\n",
      "[GLLiM NP]: Inverse prediction using cluster: 3\n",
      "[GLLiM NP]: Inverse prediction using cluster: 16\n",
      "[GLLiM NP]: Inverse prediction using cluster: 7\n",
      "[GLLiM NP]: Inverse prediction using cluster: 8\n",
      "[GLLiM NP]: Inverse prediction using cluster: 17\n",
      "[GLLiM NP]: Inverse prediction using cluster: 12\n",
      "[GLLiM NP]: Inverse prediction using cluster: 6\n",
      "[GLLiM NP]: Inverse prediction using cluster: 11\n",
      "[GLLiM NP]: Inverse prediction using cluster: 0\n",
      "[GLLiM NP]: Inverse prediction using cluster: 15\n",
      "[GLLiM NP]: Inverse prediction using cluster: 16\n",
      "[GLLiM NP]: Inverse prediction using cluster: 10\n",
      "[GLLiM NP]: Inverse prediction using cluster: 6\n",
      "[GLLiM NP]: Inverse prediction using cluster: 16\n",
      "[GLLiM NP]: Inverse prediction using cluster: 2\n",
      "[GLLiM NP]: Inverse prediction using cluster: 4\n",
      "[GLLiM NP]: Inverse prediction using cluster: 10\n",
      "[GLLiM NP]: Inverse prediction using cluster: 11\n",
      "[GLLiM NP]: Inverse prediction using cluster: 7\n",
      "[GLLiM NP]: Inverse prediction using cluster: 10\n",
      "[GLLiM NP]: Inverse prediction using cluster: 2\n",
      "[GLLiM NP]: Inverse prediction using cluster: 1\n",
      "[GLLiM NP]: Inverse prediction using cluster: 12\n",
      "[GLLiM NP]: Inverse prediction using cluster: 8\n",
      "[GLLiM NP]: Inverse prediction using cluster: 7\n",
      "[GLLiM NP]: Inverse prediction using cluster: 14\n",
      "[GLLiM NP]: Inverse prediction using cluster: 6\n",
      "[GLLiM NP]: Inverse prediction using cluster: 7\n",
      "[GLLiM NP]: Inverse prediction using cluster: 14\n",
      "[GLLiM NP]: Inverse prediction using cluster: 6\n",
      "[GLLiM NP]: Inverse prediction using cluster: 11\n",
      "[GLLiM NP]: Inverse prediction using cluster: 7\n",
      "[GLLiM NP]: Inverse prediction using cluster: 12\n",
      "[GLLiM NP]: Inverse prediction using cluster: 3\n",
      "[GLLiM NP]: Inverse prediction using cluster: 19\n",
      "[GLLiM NP]: Inverse prediction using cluster: 5\n",
      "[GLLiM NP]: Inverse prediction using cluster: 1\n",
      "[GLLiM NP]: Inverse prediction using cluster: 16\n",
      "[GLLiM NP]: Inverse prediction using cluster: 13\n",
      "[GLLiM NP]: Inverse prediction using cluster: 12\n",
      "[GLLiM NP]: Inverse prediction using cluster: 12\n",
      "[GLLiM NP]: Inverse prediction using cluster: 0\n",
      "[GLLiM NP]: Inverse prediction using cluster: 11\n",
      "[GLLiM NP]: Inverse prediction using cluster: 17\n",
      "[GLLiM NP]: Inverse prediction using cluster: 17\n",
      "[GLLiM NP]: Inverse prediction using cluster: 3\n",
      "[GLLiM NP]: Inverse prediction using cluster: 5\n",
      "[GLLiM NP]: Inverse prediction using cluster: 4\n",
      "[GLLiM NP]: Inverse prediction using cluster: 14\n",
      "[GLLiM NP]: Inverse prediction using cluster: 6\n",
      "[GLLiM NP]: Inverse prediction using cluster: 11\n",
      "[GLLiM NP]: Inverse prediction using cluster: 16\n",
      "[GLLiM NP]: Inverse prediction using cluster: 6\n",
      "[GLLiM NP]: Inverse prediction using cluster: 6\n",
      "[GLLiM NP]: Inverse prediction using cluster: 4\n",
      "[GLLiM NP]: Inverse prediction using cluster: 0\n",
      "[GLLiM NP]: Inverse prediction using cluster: 2\n",
      "[GLLiM NP]: Inverse prediction using cluster: 16\n",
      "[GLLiM NP]: Inverse prediction using cluster: 16\n",
      "[GLLiM NP]: Inverse prediction using cluster: 8\n",
      "[GLLiM NP]: Inverse prediction using cluster: 18\n",
      "[GLLiM NP]: Inverse prediction using cluster: 3\n",
      "[GLLiM NP]: Inverse prediction using cluster: 1\n",
      "[GLLiM NP]: Inverse prediction using cluster: 5\n",
      "[GLLiM NP]: Inverse prediction using cluster: 13\n",
      "[GLLiM NP]: Inverse prediction using cluster: 1\n",
      "[GLLiM NP]: Inverse prediction using cluster: 12\n",
      "[GLLiM NP]: Inverse prediction using cluster: 7\n",
      "[GLLiM NP]: Inverse prediction using cluster: 16\n",
      "[GLLiM NP]: Inverse prediction using cluster: 9\n",
      "[GLLiM NP]: Inverse prediction using cluster: 4\n",
      "[GLLiM NP]: Inverse prediction using cluster: 14\n",
      "[GLLiM NP]: Inverse prediction using cluster: 9\n",
      "[GLLiM NP]: Inverse prediction using cluster: 6\n",
      "[GLLiM NP]: Inverse prediction using cluster: 7\n",
      "[GLLiM NP]: Inverse prediction using cluster: 5\n",
      "[GLLiM NP]: Inverse prediction using cluster: 14\n",
      "[GLLiM NP]: Inverse prediction using cluster: 2\n",
      "[GLLiM NP]: Inverse prediction using cluster: 14\n",
      "[GLLiM NP]: Inverse prediction using cluster: 12\n",
      "[GLLiM NP]: Inverse prediction using cluster: 3\n",
      "[GLLiM NP]: Inverse prediction using cluster: 1\n",
      "[GLLiM NP]: Inverse prediction using cluster: 6\n",
      "[GLLiM NP]: Inverse prediction using cluster: 10\n",
      "[GLLiM NP]: Inverse prediction using cluster: 3\n",
      "[GLLiM NP]: Inverse prediction using cluster: 12\n",
      "[GLLiM NP]: Inverse prediction using cluster: 3\n",
      "[GLLiM NP]: Inverse prediction using cluster: 2\n",
      "[GLLiM NP]: Inverse prediction using cluster: 3\n",
      "[GLLiM NP]: Inverse prediction using cluster: 3\n",
      "[GLLiM NP]: Inverse prediction using cluster: 14\n",
      "[GLLiM NP]: Inverse prediction using cluster: 3\n",
      "[GLLiM NP]: Inverse prediction using cluster: 8\n",
      "[GLLiM NP]: Inverse prediction using cluster: 6\n",
      "[GLLiM NP]: Inverse prediction using cluster: 2\n",
      "[GLLiM NP]: Inverse prediction using cluster: 14\n",
      "[GLLiM NP]: Inverse prediction using cluster: 1\n",
      "[GLLiM NP]: Inverse prediction using cluster: 3\n",
      "[GLLiM NP]: Inverse prediction using cluster: 6\n",
      "[GLLiM NP]: Inverse prediction using cluster: 14\n"
     ]
    }
   ],
   "source": [
    "rec_rel_error = []\n",
    "\n",
    "for i in range(200):\n",
    "    target_cluster = pred_cluster[i]\n",
    "    temp_pred = orig_all[:, i]\n",
    "    temp_pred_img = model.inverse_predict_cluster(temp_pred, target_cluster)\n",
    "    rel_err = np.linalg.norm(orig_vec[:, i] - temp_pred_img.reshape(-1))/np.linalg.norm(orig_vec[:, i])\n",
    "    rec_rel_error.append(rel_err)"
   ]
  },
  {
   "cell_type": "code",
   "execution_count": 169,
   "metadata": {},
   "outputs": [
    {
     "data": {
      "text/plain": [
       "(array([ 3., 10., 21., 17., 20., 16.,  8.,  3.,  1.,  1.]),\n",
       " array([0.04300641, 0.06645589, 0.08990538, 0.11335486, 0.13680434,\n",
       "        0.16025383, 0.18370331, 0.2071528 , 0.23060228, 0.25405177,\n",
       "        0.27750125]),\n",
       " <a list of 10 Patch objects>)"
      ]
     },
     "execution_count": 169,
     "metadata": {},
     "output_type": "execute_result"
    },
    {
     "data": {
      "image/png": "[encoded data removed]",
      "text/plain": [
       "<Figure size 432x288 with 1 Axes>"
      ]
     },
     "metadata": {
      "needs_background": "light"
     },
     "output_type": "display_data"
    }
   ],
   "source": [
    "plt.hist(rec_rel_error[:100], alpha=0.5, label='x')\n",
    "plt.hist(rec_rel_error[100:], alpha=0.5, label='y')"
   ]
  },
  {
   "cell_type": "code",
   "execution_count": 74,
   "metadata": {},
   "outputs": [
    {
     "data": {
      "text/plain": [
       "array([[ 0.43414434],\n",
       "       [ 0.3287856 ],\n",
       "       [ 0.56232316],\n",
       "       [-1.28843611],\n",
       "       [ 0.22783881],\n",
       "       [-0.774086  ],\n",
       "       [-0.98355268],\n",
       "       [ 0.09893813],\n",
       "       [-0.46243041],\n",
       "       [ 1.09885526],\n",
       "       [ 0.1321861 ],\n",
       "       [ 0.96476323]])"
      ]
     },
     "execution_count": 74,
     "metadata": {},
     "output_type": "execute_result"
    }
   ],
   "source": [
    "pred_2"
   ]
  },
  {
   "cell_type": "code",
   "execution_count": 75,
   "metadata": {},
   "outputs": [
    {
     "data": {
      "text/plain": [
       "array([ 0.43379038,  0.3288438 ,  0.5622205 , -1.28902267,  0.2278089 ,\n",
       "       -0.77507209, -0.98555903,  0.09874488, -0.46405358,  1.10274075,\n",
       "        0.13298534,  0.9685711 ])"
      ]
     },
     "execution_count": 75,
     "metadata": {},
     "output_type": "execute_result"
    }
   ],
   "source": [
    "temp_pred"
   ]
  },
  {
   "cell_type": "code",
   "execution_count": 143,
   "metadata": {},
   "outputs": [],
   "source": [
    "pred_cluster = model.get_predict_cluster(orig_vec)"
   ]
  },
  {
   "cell_type": "code",
   "execution_count": 147,
   "metadata": {},
   "outputs": [],
   "source": [
    "cluster_list = []\n",
    "for i in range(100):\n",
    "    temp = df.loc[(df[\"data_type\"]==\"test\") & (df[\"data_idx\"]==i), [\"orig_p1\"]]\n",
    "    target_cluster = int(temp[\"orig_p1\"])\n",
    "    cluster_list.append(target_cluster)"
   ]
  },
  {
   "cell_type": "code",
   "execution_count": 151,
   "metadata": {},
   "outputs": [
    {
     "name": "stdout",
     "output_type": "stream",
     "text": [
      "0 3 3 True\n",
      "1 16 16 True\n",
      "2 7 7 True\n",
      "3 8 8 True\n",
      "4 1 17 False\n",
      "5 12 12 True\n",
      "6 6 6 True\n",
      "7 11 11 True\n",
      "8 0 0 True\n",
      "9 15 15 True\n",
      "10 16 16 True\n",
      "11 10 10 True\n",
      "12 6 6 True\n",
      "13 16 16 True\n",
      "14 2 2 True\n",
      "15 4 4 True\n",
      "16 10 10 True\n",
      "17 11 11 True\n",
      "18 7 7 True\n",
      "19 10 10 True\n",
      "20 2 2 True\n",
      "21 1 1 True\n",
      "22 12 12 True\n",
      "23 16 8 False\n",
      "24 7 7 True\n",
      "25 14 14 True\n",
      "26 6 6 True\n",
      "27 7 7 True\n",
      "28 14 14 True\n",
      "29 6 6 True\n",
      "30 11 11 True\n",
      "31 7 7 True\n",
      "32 12 12 True\n",
      "33 3 3 True\n",
      "34 19 19 True\n",
      "35 5 5 True\n",
      "36 1 1 True\n",
      "37 16 16 True\n",
      "38 13 13 True\n",
      "39 12 12 True\n",
      "40 12 12 True\n",
      "41 0 0 True\n",
      "42 11 11 True\n",
      "43 17 17 True\n",
      "44 17 17 True\n",
      "45 3 3 True\n",
      "46 5 5 True\n",
      "47 4 4 True\n",
      "48 14 14 True\n",
      "49 6 6 True\n",
      "50 11 11 True\n",
      "51 16 16 True\n",
      "52 6 6 True\n",
      "53 6 6 True\n",
      "54 4 4 True\n",
      "55 0 0 True\n",
      "56 2 2 True\n",
      "57 16 16 True\n",
      "58 16 16 True\n",
      "59 8 8 True\n",
      "60 18 18 True\n",
      "61 3 3 True\n",
      "62 1 1 True\n",
      "63 5 5 True\n",
      "64 13 13 True\n",
      "65 1 1 True\n",
      "66 12 12 True\n",
      "67 7 7 True\n",
      "68 16 16 True\n",
      "69 9 9 True\n",
      "70 4 4 True\n",
      "71 14 14 True\n",
      "72 9 9 True\n",
      "73 6 6 True\n",
      "74 7 7 True\n",
      "75 5 5 True\n",
      "76 14 14 True\n",
      "77 2 2 True\n",
      "78 14 14 True\n",
      "79 12 12 True\n",
      "80 3 3 True\n",
      "81 1 1 True\n",
      "82 6 6 True\n",
      "83 10 10 True\n",
      "84 3 3 True\n",
      "85 12 12 True\n",
      "86 3 3 True\n",
      "87 2 2 True\n",
      "88 3 3 True\n",
      "89 3 3 True\n",
      "90 14 14 True\n",
      "91 3 3 True\n",
      "92 8 8 True\n",
      "93 6 6 True\n",
      "94 2 2 True\n",
      "95 14 14 True\n",
      "96 1 1 True\n",
      "97 3 3 True\n",
      "98 6 6 True\n",
      "99 14 14 True\n"
     ]
    }
   ],
   "source": [
    "i = 0\n",
    "for c1, c2 in zip(cluster_list, pred_cluster[100:]):\n",
    "    print(\"{} {} {} {}\".format(i, c1, c2, c1==c2))\n",
    "    i += 1"
   ]
  },
  {
   "cell_type": "code",
   "execution_count": null,
   "metadata": {},
   "outputs": [],
   "source": []
  }
 ],
 "metadata": {
  "kernelspec": {
   "display_name": "Python 3",
   "language": "python",
   "name": "python3"
  },
  "language_info": {
   "codemirror_mode": {
    "name": "ipython",
    "version": 3
   },
   "file_extension": ".py",
   "mimetype": "text/x-python",
   "name": "python",
   "nbconvert_exporter": "python",
   "pygments_lexer": "ipython3",
   "version": "3.6.7"
  }
 },
 "nbformat": 4,
 "nbformat_minor": 2
}
